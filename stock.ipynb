{
  "nbformat": 4,
  "nbformat_minor": 0,
  "metadata": {
    "colab": {
      "name": "Udntitled0.ipynb",
      "provenance": [],
      "toc_visible": true,
      "mount_file_id": "1c9hdE2RM59ZmCVheT36aYnoai7oESkGj",
      "authorship_tag": "ABX9TyMW/Xe5JF/DFoTjoCl/FYuR",
      "include_colab_link": true
    },
    "kernelspec": {
      "name": "python3",
      "display_name": "Python 3"
    }
  },
  "cells": [
    {
      "cell_type": "markdown",
      "metadata": {
        "id": "view-in-github",
        "colab_type": "text"
      },
      "source": [
        "<a href=\"https://colab.research.google.com/github/kdh92417/stock/blob/master/stock.ipynb\" target=\"_parent\"><img src=\"https://colab.research.google.com/assets/colab-badge.svg\" alt=\"Open In Colab\"/></a>"
      ]
    },
    {
      "cell_type": "code",
      "metadata": {
        "colab": {
          "base_uri": "https://localhost:8080/"
        },
        "id": "xjfNYrUgjqKD",
        "outputId": "e18687a9-6f29-4cc6-a0e1-800c64cbfada"
      },
      "source": [
        "pip install yfinance\n"
      ],
      "execution_count": null,
      "outputs": [
        {
          "output_type": "stream",
          "text": [
            "Collecting yfinance\n",
            "  Downloading https://files.pythonhosted.org/packages/7a/e8/b9d7104d3a4bf39924799067592d9e59119fcfc900a425a12e80a3123ec8/yfinance-0.1.55.tar.gz\n",
            "Requirement already satisfied: pandas>=0.24 in /usr/local/lib/python3.7/dist-packages (from yfinance) (1.1.5)\n",
            "Requirement already satisfied: numpy>=1.15 in /usr/local/lib/python3.7/dist-packages (from yfinance) (1.19.5)\n",
            "Requirement already satisfied: requests>=2.20 in /usr/local/lib/python3.7/dist-packages (from yfinance) (2.23.0)\n",
            "Requirement already satisfied: multitasking>=0.0.7 in /usr/local/lib/python3.7/dist-packages (from yfinance) (0.0.9)\n",
            "Collecting lxml>=4.5.1\n",
            "\u001b[?25l  Downloading https://files.pythonhosted.org/packages/d2/88/b25778f17e5320c1c58f8c5060fb5b037288e162bd7554c30799e9ea90db/lxml-4.6.2-cp37-cp37m-manylinux1_x86_64.whl (5.5MB)\n",
            "\u001b[K     |████████████████████████████████| 5.5MB 6.3MB/s \n",
            "\u001b[?25hRequirement already satisfied: pytz>=2017.2 in /usr/local/lib/python3.7/dist-packages (from pandas>=0.24->yfinance) (2018.9)\n",
            "Requirement already satisfied: python-dateutil>=2.7.3 in /usr/local/lib/python3.7/dist-packages (from pandas>=0.24->yfinance) (2.8.1)\n",
            "Requirement already satisfied: idna<3,>=2.5 in /usr/local/lib/python3.7/dist-packages (from requests>=2.20->yfinance) (2.10)\n",
            "Requirement already satisfied: chardet<4,>=3.0.2 in /usr/local/lib/python3.7/dist-packages (from requests>=2.20->yfinance) (3.0.4)\n",
            "Requirement already satisfied: urllib3!=1.25.0,!=1.25.1,<1.26,>=1.21.1 in /usr/local/lib/python3.7/dist-packages (from requests>=2.20->yfinance) (1.24.3)\n",
            "Requirement already satisfied: certifi>=2017.4.17 in /usr/local/lib/python3.7/dist-packages (from requests>=2.20->yfinance) (2020.12.5)\n",
            "Requirement already satisfied: six>=1.5 in /usr/local/lib/python3.7/dist-packages (from python-dateutil>=2.7.3->pandas>=0.24->yfinance) (1.15.0)\n",
            "Building wheels for collected packages: yfinance\n",
            "  Building wheel for yfinance (setup.py) ... \u001b[?25l\u001b[?25hdone\n",
            "  Created wheel for yfinance: filename=yfinance-0.1.55-py2.py3-none-any.whl size=22616 sha256=04a294c48a55389cfcdd5e0daaf964518014713f33e2b8122678cf716ae20857\n",
            "  Stored in directory: /root/.cache/pip/wheels/04/98/cc/2702a4242d60bdc14f48b4557c427ded1fe92aedf257d4565c\n",
            "Successfully built yfinance\n",
            "Installing collected packages: lxml, yfinance\n",
            "  Found existing installation: lxml 4.2.6\n",
            "    Uninstalling lxml-4.2.6:\n",
            "      Successfully uninstalled lxml-4.2.6\n",
            "Successfully installed lxml-4.6.2 yfinance-0.1.55\n"
          ],
          "name": "stdout"
        }
      ]
    },
    {
      "cell_type": "code",
      "metadata": {
        "colab": {
          "base_uri": "https://localhost:8080/"
        },
        "id": "Zl6kIdtuFOPp",
        "outputId": "87c5964d-47a2-4c0e-caa1-55ebd58f71aa"
      },
      "source": [
        "pip install pandas_datareader"
      ],
      "execution_count": null,
      "outputs": [
        {
          "output_type": "stream",
          "text": [
            "Requirement already satisfied: pandas_datareader in /usr/local/lib/python3.7/dist-packages (0.9.0)\n",
            "Requirement already satisfied: pandas>=0.23 in /usr/local/lib/python3.7/dist-packages (from pandas_datareader) (1.1.5)\n",
            "Requirement already satisfied: requests>=2.19.0 in /usr/local/lib/python3.7/dist-packages (from pandas_datareader) (2.23.0)\n",
            "Requirement already satisfied: lxml in /usr/local/lib/python3.7/dist-packages (from pandas_datareader) (4.6.2)\n",
            "Requirement already satisfied: python-dateutil>=2.7.3 in /usr/local/lib/python3.7/dist-packages (from pandas>=0.23->pandas_datareader) (2.8.1)\n",
            "Requirement already satisfied: pytz>=2017.2 in /usr/local/lib/python3.7/dist-packages (from pandas>=0.23->pandas_datareader) (2018.9)\n",
            "Requirement already satisfied: numpy>=1.15.4 in /usr/local/lib/python3.7/dist-packages (from pandas>=0.23->pandas_datareader) (1.19.5)\n",
            "Requirement already satisfied: idna<3,>=2.5 in /usr/local/lib/python3.7/dist-packages (from requests>=2.19.0->pandas_datareader) (2.10)\n",
            "Requirement already satisfied: urllib3!=1.25.0,!=1.25.1,<1.26,>=1.21.1 in /usr/local/lib/python3.7/dist-packages (from requests>=2.19.0->pandas_datareader) (1.24.3)\n",
            "Requirement already satisfied: chardet<4,>=3.0.2 in /usr/local/lib/python3.7/dist-packages (from requests>=2.19.0->pandas_datareader) (3.0.4)\n",
            "Requirement already satisfied: certifi>=2017.4.17 in /usr/local/lib/python3.7/dist-packages (from requests>=2.19.0->pandas_datareader) (2020.12.5)\n",
            "Requirement already satisfied: six>=1.5 in /usr/local/lib/python3.7/dist-packages (from python-dateutil>=2.7.3->pandas>=0.23->pandas_datareader) (1.15.0)\n"
          ],
          "name": "stdout"
        }
      ]
    },
    {
      "cell_type": "code",
      "metadata": {
        "id": "9oDlC919FcTI"
      },
      "source": [
        "from pandas_datareader import data as pdr"
      ],
      "execution_count": null,
      "outputs": []
    },
    {
      "cell_type": "code",
      "metadata": {
        "id": "-7rRWelFFhRY"
      },
      "source": [
        "import yfinance as yf"
      ],
      "execution_count": null,
      "outputs": []
    },
    {
      "cell_type": "code",
      "metadata": {
        "id": "CD5SE0PgFnGI"
      },
      "source": [
        "yf.pdr_override()"
      ],
      "execution_count": null,
      "outputs": []
    },
    {
      "cell_type": "code",
      "metadata": {
        "colab": {
          "base_uri": "https://localhost:8080/"
        },
        "id": "8zmzl7wlFwUI",
        "outputId": "f4728f4a-8722-4193-eb7b-ddda36f04d68"
      },
      "source": [
        "sec = pdr.get_data_yahoo('005930.KS', start='2020-01-01')"
      ],
      "execution_count": null,
      "outputs": [
        {
          "output_type": "stream",
          "text": [
            "\r[*********************100%***********************]  1 of 1 completed\n"
          ],
          "name": "stdout"
        }
      ]
    },
    {
      "cell_type": "code",
      "metadata": {
        "colab": {
          "base_uri": "https://localhost:8080/",
          "height": 235
        },
        "id": "6YpIM7iKF-It",
        "outputId": "1ee9abd1-919d-4f4f-b1a5-cb2df7fd668c"
      },
      "source": [
        "sec.head()\n"
      ],
      "execution_count": null,
      "outputs": [
        {
          "output_type": "execute_result",
          "data": {
            "text/html": [
              "<div>\n",
              "<style scoped>\n",
              "    .dataframe tbody tr th:only-of-type {\n",
              "        vertical-align: middle;\n",
              "    }\n",
              "\n",
              "    .dataframe tbody tr th {\n",
              "        vertical-align: top;\n",
              "    }\n",
              "\n",
              "    .dataframe thead th {\n",
              "        text-align: right;\n",
              "    }\n",
              "</style>\n",
              "<table border=\"1\" class=\"dataframe\">\n",
              "  <thead>\n",
              "    <tr style=\"text-align: right;\">\n",
              "      <th></th>\n",
              "      <th>Open</th>\n",
              "      <th>High</th>\n",
              "      <th>Low</th>\n",
              "      <th>Close</th>\n",
              "      <th>Adj Close</th>\n",
              "      <th>Volume</th>\n",
              "    </tr>\n",
              "    <tr>\n",
              "      <th>Date</th>\n",
              "      <th></th>\n",
              "      <th></th>\n",
              "      <th></th>\n",
              "      <th></th>\n",
              "      <th></th>\n",
              "      <th></th>\n",
              "    </tr>\n",
              "  </thead>\n",
              "  <tbody>\n",
              "    <tr>\n",
              "      <th>2020-01-02</th>\n",
              "      <td>55500.0</td>\n",
              "      <td>56000.0</td>\n",
              "      <td>55000.0</td>\n",
              "      <td>55200.0</td>\n",
              "      <td>52770.640625</td>\n",
              "      <td>12993228</td>\n",
              "    </tr>\n",
              "    <tr>\n",
              "      <th>2020-01-03</th>\n",
              "      <td>56000.0</td>\n",
              "      <td>56600.0</td>\n",
              "      <td>54900.0</td>\n",
              "      <td>55500.0</td>\n",
              "      <td>53057.433594</td>\n",
              "      <td>15422255</td>\n",
              "    </tr>\n",
              "    <tr>\n",
              "      <th>2020-01-06</th>\n",
              "      <td>54900.0</td>\n",
              "      <td>55600.0</td>\n",
              "      <td>54600.0</td>\n",
              "      <td>55500.0</td>\n",
              "      <td>53057.433594</td>\n",
              "      <td>10278951</td>\n",
              "    </tr>\n",
              "    <tr>\n",
              "      <th>2020-01-07</th>\n",
              "      <td>55700.0</td>\n",
              "      <td>56400.0</td>\n",
              "      <td>55600.0</td>\n",
              "      <td>55800.0</td>\n",
              "      <td>53344.234375</td>\n",
              "      <td>10009778</td>\n",
              "    </tr>\n",
              "    <tr>\n",
              "      <th>2020-01-08</th>\n",
              "      <td>56200.0</td>\n",
              "      <td>57400.0</td>\n",
              "      <td>55900.0</td>\n",
              "      <td>56800.0</td>\n",
              "      <td>54300.218750</td>\n",
              "      <td>23501171</td>\n",
              "    </tr>\n",
              "  </tbody>\n",
              "</table>\n",
              "</div>"
            ],
            "text/plain": [
              "               Open     High      Low    Close     Adj Close    Volume\n",
              "Date                                                                  \n",
              "2020-01-02  55500.0  56000.0  55000.0  55200.0  52770.640625  12993228\n",
              "2020-01-03  56000.0  56600.0  54900.0  55500.0  53057.433594  15422255\n",
              "2020-01-06  54900.0  55600.0  54600.0  55500.0  53057.433594  10278951\n",
              "2020-01-07  55700.0  56400.0  55600.0  55800.0  53344.234375  10009778\n",
              "2020-01-08  56200.0  57400.0  55900.0  56800.0  54300.218750  23501171"
            ]
          },
          "metadata": {
            "tags": []
          },
          "execution_count": 36
        }
      ]
    },
    {
      "cell_type": "code",
      "metadata": {
        "colab": {
          "base_uri": "https://localhost:8080/",
          "height": 235
        },
        "id": "E6-cQRS4GAab",
        "outputId": "4b822f2b-8925-4cf0-9116-c9e9ceae90f8"
      },
      "source": [
        "sec.tail()"
      ],
      "execution_count": null,
      "outputs": [
        {
          "output_type": "execute_result",
          "data": {
            "text/html": [
              "<div>\n",
              "<style scoped>\n",
              "    .dataframe tbody tr th:only-of-type {\n",
              "        vertical-align: middle;\n",
              "    }\n",
              "\n",
              "    .dataframe tbody tr th {\n",
              "        vertical-align: top;\n",
              "    }\n",
              "\n",
              "    .dataframe thead th {\n",
              "        text-align: right;\n",
              "    }\n",
              "</style>\n",
              "<table border=\"1\" class=\"dataframe\">\n",
              "  <thead>\n",
              "    <tr style=\"text-align: right;\">\n",
              "      <th></th>\n",
              "      <th>Open</th>\n",
              "      <th>High</th>\n",
              "      <th>Low</th>\n",
              "      <th>Close</th>\n",
              "      <th>Adj Close</th>\n",
              "      <th>Volume</th>\n",
              "    </tr>\n",
              "    <tr>\n",
              "      <th>Date</th>\n",
              "      <th></th>\n",
              "      <th></th>\n",
              "      <th></th>\n",
              "      <th></th>\n",
              "      <th></th>\n",
              "      <th></th>\n",
              "    </tr>\n",
              "  </thead>\n",
              "  <tbody>\n",
              "    <tr>\n",
              "      <th>2021-03-08</th>\n",
              "      <td>82900.0</td>\n",
              "      <td>83000.0</td>\n",
              "      <td>81600.0</td>\n",
              "      <td>82000.0</td>\n",
              "      <td>82000.0</td>\n",
              "      <td>17641256</td>\n",
              "    </tr>\n",
              "    <tr>\n",
              "      <th>2021-03-09</th>\n",
              "      <td>81400.0</td>\n",
              "      <td>81900.0</td>\n",
              "      <td>80600.0</td>\n",
              "      <td>81400.0</td>\n",
              "      <td>81400.0</td>\n",
              "      <td>25420764</td>\n",
              "    </tr>\n",
              "    <tr>\n",
              "      <th>2021-03-10</th>\n",
              "      <td>82400.0</td>\n",
              "      <td>82500.0</td>\n",
              "      <td>80700.0</td>\n",
              "      <td>80900.0</td>\n",
              "      <td>80900.0</td>\n",
              "      <td>20038422</td>\n",
              "    </tr>\n",
              "    <tr>\n",
              "      <th>2021-03-11</th>\n",
              "      <td>81000.0</td>\n",
              "      <td>82500.0</td>\n",
              "      <td>81000.0</td>\n",
              "      <td>82000.0</td>\n",
              "      <td>82000.0</td>\n",
              "      <td>23818297</td>\n",
              "    </tr>\n",
              "    <tr>\n",
              "      <th>2021-03-12</th>\n",
              "      <td>83100.0</td>\n",
              "      <td>83500.0</td>\n",
              "      <td>82400.0</td>\n",
              "      <td>82800.0</td>\n",
              "      <td>82800.0</td>\n",
              "      <td>12300008</td>\n",
              "    </tr>\n",
              "  </tbody>\n",
              "</table>\n",
              "</div>"
            ],
            "text/plain": [
              "               Open     High      Low    Close  Adj Close    Volume\n",
              "Date                                                               \n",
              "2021-03-08  82900.0  83000.0  81600.0  82000.0    82000.0  17641256\n",
              "2021-03-09  81400.0  81900.0  80600.0  81400.0    81400.0  25420764\n",
              "2021-03-10  82400.0  82500.0  80700.0  80900.0    80900.0  20038422\n",
              "2021-03-11  81000.0  82500.0  81000.0  82000.0    82000.0  23818297\n",
              "2021-03-12  83100.0  83500.0  82400.0  82800.0    82800.0  12300008"
            ]
          },
          "metadata": {
            "tags": []
          },
          "execution_count": 37
        }
      ]
    },
    {
      "cell_type": "code",
      "metadata": {
        "colab": {
          "base_uri": "https://localhost:8080/"
        },
        "id": "2LCddrP3GCQD",
        "outputId": "bb53b655-f95a-4797-a15e-2f8982b50283"
      },
      "source": [
        "pip install tensorflow\n"
      ],
      "execution_count": null,
      "outputs": [
        {
          "output_type": "stream",
          "text": [
            "Requirement already satisfied: tensorflow in /usr/local/lib/python3.7/dist-packages (2.4.1)\n",
            "Requirement already satisfied: flatbuffers~=1.12.0 in /usr/local/lib/python3.7/dist-packages (from tensorflow) (1.12)\n",
            "Requirement already satisfied: tensorflow-estimator<2.5.0,>=2.4.0 in /usr/local/lib/python3.7/dist-packages (from tensorflow) (2.4.0)\n",
            "Requirement already satisfied: tensorboard~=2.4 in /usr/local/lib/python3.7/dist-packages (from tensorflow) (2.4.1)\n",
            "Requirement already satisfied: grpcio~=1.32.0 in /usr/local/lib/python3.7/dist-packages (from tensorflow) (1.32.0)\n",
            "Requirement already satisfied: astunparse~=1.6.3 in /usr/local/lib/python3.7/dist-packages (from tensorflow) (1.6.3)\n",
            "Requirement already satisfied: wrapt~=1.12.1 in /usr/local/lib/python3.7/dist-packages (from tensorflow) (1.12.1)\n",
            "Requirement already satisfied: six~=1.15.0 in /usr/local/lib/python3.7/dist-packages (from tensorflow) (1.15.0)\n",
            "Requirement already satisfied: gast==0.3.3 in /usr/local/lib/python3.7/dist-packages (from tensorflow) (0.3.3)\n",
            "Requirement already satisfied: termcolor~=1.1.0 in /usr/local/lib/python3.7/dist-packages (from tensorflow) (1.1.0)\n",
            "Requirement already satisfied: opt-einsum~=3.3.0 in /usr/local/lib/python3.7/dist-packages (from tensorflow) (3.3.0)\n",
            "Requirement already satisfied: h5py~=2.10.0 in /usr/local/lib/python3.7/dist-packages (from tensorflow) (2.10.0)\n",
            "Requirement already satisfied: absl-py~=0.10 in /usr/local/lib/python3.7/dist-packages (from tensorflow) (0.10.0)\n",
            "Requirement already satisfied: google-pasta~=0.2 in /usr/local/lib/python3.7/dist-packages (from tensorflow) (0.2.0)\n",
            "Requirement already satisfied: protobuf>=3.9.2 in /usr/local/lib/python3.7/dist-packages (from tensorflow) (3.12.4)\n",
            "Requirement already satisfied: numpy~=1.19.2 in /usr/local/lib/python3.7/dist-packages (from tensorflow) (1.19.5)\n",
            "Requirement already satisfied: wheel~=0.35 in /usr/local/lib/python3.7/dist-packages (from tensorflow) (0.36.2)\n",
            "Requirement already satisfied: typing-extensions~=3.7.4 in /usr/local/lib/python3.7/dist-packages (from tensorflow) (3.7.4.3)\n",
            "Requirement already satisfied: keras-preprocessing~=1.1.2 in /usr/local/lib/python3.7/dist-packages (from tensorflow) (1.1.2)\n",
            "Requirement already satisfied: google-auth-oauthlib<0.5,>=0.4.1 in /usr/local/lib/python3.7/dist-packages (from tensorboard~=2.4->tensorflow) (0.4.3)\n",
            "Requirement already satisfied: google-auth<2,>=1.6.3 in /usr/local/lib/python3.7/dist-packages (from tensorboard~=2.4->tensorflow) (1.27.1)\n",
            "Requirement already satisfied: setuptools>=41.0.0 in /usr/local/lib/python3.7/dist-packages (from tensorboard~=2.4->tensorflow) (54.0.0)\n",
            "Requirement already satisfied: tensorboard-plugin-wit>=1.6.0 in /usr/local/lib/python3.7/dist-packages (from tensorboard~=2.4->tensorflow) (1.8.0)\n",
            "Requirement already satisfied: markdown>=2.6.8 in /usr/local/lib/python3.7/dist-packages (from tensorboard~=2.4->tensorflow) (3.3.4)\n",
            "Requirement already satisfied: werkzeug>=0.11.15 in /usr/local/lib/python3.7/dist-packages (from tensorboard~=2.4->tensorflow) (1.0.1)\n",
            "Requirement already satisfied: requests<3,>=2.21.0 in /usr/local/lib/python3.7/dist-packages (from tensorboard~=2.4->tensorflow) (2.23.0)\n",
            "Requirement already satisfied: requests-oauthlib>=0.7.0 in /usr/local/lib/python3.7/dist-packages (from google-auth-oauthlib<0.5,>=0.4.1->tensorboard~=2.4->tensorflow) (1.3.0)\n",
            "Requirement already satisfied: cachetools<5.0,>=2.0.0 in /usr/local/lib/python3.7/dist-packages (from google-auth<2,>=1.6.3->tensorboard~=2.4->tensorflow) (4.2.1)\n",
            "Requirement already satisfied: rsa<5,>=3.1.4; python_version >= \"3.6\" in /usr/local/lib/python3.7/dist-packages (from google-auth<2,>=1.6.3->tensorboard~=2.4->tensorflow) (4.7.2)\n",
            "Requirement already satisfied: pyasn1-modules>=0.2.1 in /usr/local/lib/python3.7/dist-packages (from google-auth<2,>=1.6.3->tensorboard~=2.4->tensorflow) (0.2.8)\n",
            "Requirement already satisfied: importlib-metadata; python_version < \"3.8\" in /usr/local/lib/python3.7/dist-packages (from markdown>=2.6.8->tensorboard~=2.4->tensorflow) (3.7.0)\n",
            "Requirement already satisfied: idna<3,>=2.5 in /usr/local/lib/python3.7/dist-packages (from requests<3,>=2.21.0->tensorboard~=2.4->tensorflow) (2.10)\n",
            "Requirement already satisfied: certifi>=2017.4.17 in /usr/local/lib/python3.7/dist-packages (from requests<3,>=2.21.0->tensorboard~=2.4->tensorflow) (2020.12.5)\n",
            "Requirement already satisfied: chardet<4,>=3.0.2 in /usr/local/lib/python3.7/dist-packages (from requests<3,>=2.21.0->tensorboard~=2.4->tensorflow) (3.0.4)\n",
            "Requirement already satisfied: urllib3!=1.25.0,!=1.25.1,<1.26,>=1.21.1 in /usr/local/lib/python3.7/dist-packages (from requests<3,>=2.21.0->tensorboard~=2.4->tensorflow) (1.24.3)\n",
            "Requirement already satisfied: oauthlib>=3.0.0 in /usr/local/lib/python3.7/dist-packages (from requests-oauthlib>=0.7.0->google-auth-oauthlib<0.5,>=0.4.1->tensorboard~=2.4->tensorflow) (3.1.0)\n",
            "Requirement already satisfied: pyasn1>=0.1.3 in /usr/local/lib/python3.7/dist-packages (from rsa<5,>=3.1.4; python_version >= \"3.6\"->google-auth<2,>=1.6.3->tensorboard~=2.4->tensorflow) (0.4.8)\n",
            "Requirement already satisfied: zipp>=0.5 in /usr/local/lib/python3.7/dist-packages (from importlib-metadata; python_version < \"3.8\"->markdown>=2.6.8->tensorboard~=2.4->tensorflow) (3.4.1)\n"
          ],
          "name": "stdout"
        }
      ]
    },
    {
      "cell_type": "code",
      "metadata": {
        "colab": {
          "base_uri": "https://localhost:8080/"
        },
        "id": "V66RD5kPGqa1",
        "outputId": "0a86feee-05f1-4c27-9c2f-f8d951c837b1"
      },
      "source": [
        "pip install numpy"
      ],
      "execution_count": null,
      "outputs": [
        {
          "output_type": "stream",
          "text": [
            "Requirement already satisfied: numpy in /usr/local/lib/python3.7/dist-packages (1.19.5)\n"
          ],
          "name": "stdout"
        }
      ]
    },
    {
      "cell_type": "code",
      "metadata": {
        "colab": {
          "base_uri": "https://localhost:8080/"
        },
        "id": "duOnJlYqGsz8",
        "outputId": "f03db21f-9f4e-4b0e-d160-1a6f67e18895"
      },
      "source": [
        "pip install matplotlib"
      ],
      "execution_count": null,
      "outputs": [
        {
          "output_type": "stream",
          "text": [
            "Requirement already satisfied: matplotlib in /usr/local/lib/python3.7/dist-packages (3.2.2)\n",
            "Requirement already satisfied: cycler>=0.10 in /usr/local/lib/python3.7/dist-packages (from matplotlib) (0.10.0)\n",
            "Requirement already satisfied: python-dateutil>=2.1 in /usr/local/lib/python3.7/dist-packages (from matplotlib) (2.8.1)\n",
            "Requirement already satisfied: pyparsing!=2.0.4,!=2.1.2,!=2.1.6,>=2.0.1 in /usr/local/lib/python3.7/dist-packages (from matplotlib) (2.4.7)\n",
            "Requirement already satisfied: numpy>=1.11 in /usr/local/lib/python3.7/dist-packages (from matplotlib) (1.19.5)\n",
            "Requirement already satisfied: kiwisolver>=1.0.1 in /usr/local/lib/python3.7/dist-packages (from matplotlib) (1.3.1)\n",
            "Requirement already satisfied: six in /usr/local/lib/python3.7/dist-packages (from cycler>=0.10->matplotlib) (1.15.0)\n"
          ],
          "name": "stdout"
        }
      ]
    },
    {
      "cell_type": "code",
      "metadata": {
        "id": "RPXoaU8LGwiY"
      },
      "source": [
        "from tensorflow.keras import Sequential\n",
        "from tensorflow.keras.layers import Dense, LSTM, Dropout\n",
        "import numpy as np\n",
        "import matplotlib.pyplot as plt"
      ],
      "execution_count": null,
      "outputs": []
    },
    {
      "cell_type": "code",
      "metadata": {
        "id": "J1Kh1MQSHCJg"
      },
      "source": [
        "window_size = 10 \n",
        "data_size = 5\n",
        "\n",
        "raw_df = sec\n",
        "\n",
        "def MinMaxScaler(data):\n",
        "    \"\"\"최솟값과 최댓값을 이용하여 0 ~ 1 값으로 변환\"\"\"\n",
        "    numerator = data - np.min(data, 0)\n",
        "    denominator = np.max(data, 0) - np.min(data, 0)\n",
        "    # 0으로 나누기 에러가 발생하지 않도록 매우 작은 값(1e-7)을 더해서 나눔\n",
        "    return numerator / (denominator + 1e-7)\n",
        "\n",
        "dfx = raw_df[['Open','High','Low','Volume', 'Close']]\n",
        "dfx = MinMaxScaler(dfx)\n",
        "dfy = dfx[['Close']]\n",
        "\n",
        "x = dfx.values.tolist()\n",
        "y = dfy.values.tolist()"
      ],
      "execution_count": null,
      "outputs": []
    },
    {
      "cell_type": "code",
      "metadata": {
        "colab": {
          "base_uri": "https://localhost:8080/"
        },
        "id": "UlRjKxyCHgPv",
        "outputId": "1bc44596-3c61-4864-c70a-2df610dea304"
      },
      "source": [
        "x = dfx.values.tolist()\n",
        "y = dfy.values.tolist()\n",
        "\n",
        "data_x = []\n",
        "data_y = []\n",
        "for i in range(len(y) - window_size):\n",
        "    _x = x[i : i + window_size] # 다음 날 종가(i+windows_size)는 포함되지 않음\n",
        "    _y = y[i + window_size]     # 다음 날 종가\n",
        "    data_x.append(_x)\n",
        "    data_y.append(_y)\n",
        "print(_x, \"->\", _y)\n",
        "\n",
        "train_size = int(len(data_y) * 0.7)\n",
        "train_x = np.array(data_x[0 : train_size])\n",
        "train_y = np.array(data_y[0 : train_size])\n",
        "\n",
        "test_size = len(data_y) - train_size\n",
        "test_x = np.array(data_x[train_size : len(data_x)])\n",
        "test_y = np.array(data_y[train_size : len(data_y)])"
      ],
      "execution_count": null,
      "outputs": [
        {
          "output_type": "stream",
          "text": [
            "[[0.8679245283000673, 0.7859154929562706, 0.8622881355913934, 0.3782242492670237, 0.8824742268023041], [0.8427672955957175, 0.7483568075103317, 0.8411016949134722, 0.42655775362963216, 0.8247422680395367], [0.8909853249457211, 0.7840375586839736, 0.8622881355913934, 0.370940074232131, 0.8474226804106239], [0.8574423480065881, 0.7596244131441133, 0.8580508474558092, 0.2201635885881868, 0.8556701030910192], [0.8385744234783258, 0.7446009389657379, 0.8453389830490565, 0.2696197736285523, 0.8226804123694378], [0.8071278825978886, 0.7333333333319562, 0.8220338983033432, 0.2271048524177917, 0.8164948453591412], [0.8448637316544133, 0.7408450704211439, 0.8326271186423038, 0.1953493834646547, 0.8144329896890424], [0.813417190773976, 0.7201877934258776, 0.8114406779643826, 0.2814952957204685, 0.8020618556684493], [0.8343815513609342, 0.7314553990596593, 0.8135593220321746, 0.22189425646929972, 0.7917525773179551], [0.8050314465391928, 0.7314553990596593, 0.819915254235551, 0.2637504741231596, 0.8144329896890424]] -> [0.8309278350498331]\n"
          ],
          "name": "stdout"
        }
      ]
    },
    {
      "cell_type": "code",
      "metadata": {
        "colab": {
          "base_uri": "https://localhost:8080/",
          "height": 1000
        },
        "id": "2we0_Sc-IBxN",
        "outputId": "8baf7bd0-53e8-4390-9763-5c6d73054aa6"
      },
      "source": [
        "model = Sequential()\n",
        "model.add(LSTM(units=10, activation='relu', return_sequences=True, input_shape=(window_size, data_size)))\n",
        "model.add(Dropout(0.1))\n",
        "model.add(LSTM(units=10, activation='relu'))\n",
        "model.add(Dropout(0.1))\n",
        "model.add(Dense(units=1))\n",
        "model.summary()\n",
        "\n",
        "model.compile(optimizer='adam', loss='mean_squared_error')\n",
        "model.fit(train_x, train_y, epochs=60, batch_size=30)\n",
        "pred_y = model.predict(test_x)\n",
        "\n",
        "# Visualising the results\n",
        "plt.figure()\n",
        "plt.plot(test_y, color='red', label='real SEC stock price')\n",
        "plt.plot(pred_y, color='blue', label='predicted SEC stock price')\n",
        "plt.title('SEC stock price prediction')\n",
        "plt.xlabel('time')\n",
        "plt.ylabel('stock price')\n",
        "plt.legend()\n",
        "plt.show()\n",
        "\n",
        "# raw_df.close[-1] : dfy.close[-1] = x : pred_y[-1]\n",
        "print(\"Tomorrow's SEC price :\", raw_df.Close[-1] * pred_y[-1] / dfy.Close[-1], 'KRW')"
      ],
      "execution_count": null,
      "outputs": [
        {
          "output_type": "stream",
          "text": [
            "Model: \"sequential_1\"\n",
            "_________________________________________________________________\n",
            "Layer (type)                 Output Shape              Param #   \n",
            "=================================================================\n",
            "lstm_2 (LSTM)                (None, 10, 10)            640       \n",
            "_________________________________________________________________\n",
            "dropout_2 (Dropout)          (None, 10, 10)            0         \n",
            "_________________________________________________________________\n",
            "lstm_3 (LSTM)                (None, 10)                840       \n",
            "_________________________________________________________________\n",
            "dropout_3 (Dropout)          (None, 10)                0         \n",
            "_________________________________________________________________\n",
            "dense_1 (Dense)              (None, 1)                 11        \n",
            "=================================================================\n",
            "Total params: 1,491\n",
            "Trainable params: 1,491\n",
            "Non-trainable params: 0\n",
            "_________________________________________________________________\n",
            "Epoch 1/60\n",
            "7/7 [==============================] - 2s 7ms/step - loss: 0.0588\n",
            "Epoch 2/60\n",
            "7/7 [==============================] - 0s 8ms/step - loss: 0.0424\n",
            "Epoch 3/60\n",
            "7/7 [==============================] - 0s 8ms/step - loss: 0.0278\n",
            "Epoch 4/60\n",
            "7/7 [==============================] - 0s 9ms/step - loss: 0.0144\n",
            "Epoch 5/60\n",
            "7/7 [==============================] - 0s 9ms/step - loss: 0.0078\n",
            "Epoch 6/60\n",
            "7/7 [==============================] - 0s 9ms/step - loss: 0.0080\n",
            "Epoch 7/60\n",
            "7/7 [==============================] - 0s 8ms/step - loss: 0.0068\n",
            "Epoch 8/60\n",
            "7/7 [==============================] - 0s 9ms/step - loss: 0.0060\n",
            "Epoch 9/60\n",
            "7/7 [==============================] - 0s 9ms/step - loss: 0.0068\n",
            "Epoch 10/60\n",
            "7/7 [==============================] - 0s 9ms/step - loss: 0.0054\n",
            "Epoch 11/60\n",
            "7/7 [==============================] - 0s 9ms/step - loss: 0.0051\n",
            "Epoch 12/60\n",
            "7/7 [==============================] - 0s 9ms/step - loss: 0.0058\n",
            "Epoch 13/60\n",
            "7/7 [==============================] - 0s 8ms/step - loss: 0.0048\n",
            "Epoch 14/60\n",
            "7/7 [==============================] - 0s 8ms/step - loss: 0.0036\n",
            "Epoch 15/60\n",
            "7/7 [==============================] - 0s 9ms/step - loss: 0.0041\n",
            "Epoch 16/60\n",
            "7/7 [==============================] - 0s 10ms/step - loss: 0.0042\n",
            "Epoch 17/60\n",
            "7/7 [==============================] - 0s 9ms/step - loss: 0.0043\n",
            "Epoch 18/60\n",
            "7/7 [==============================] - 0s 9ms/step - loss: 0.0034\n",
            "Epoch 19/60\n",
            "7/7 [==============================] - 0s 9ms/step - loss: 0.0045\n",
            "Epoch 20/60\n",
            "7/7 [==============================] - 0s 10ms/step - loss: 0.0038\n",
            "Epoch 21/60\n",
            "7/7 [==============================] - 0s 10ms/step - loss: 0.0030\n",
            "Epoch 22/60\n",
            "7/7 [==============================] - 0s 8ms/step - loss: 0.0036\n",
            "Epoch 23/60\n",
            "7/7 [==============================] - 0s 9ms/step - loss: 0.0030\n",
            "Epoch 24/60\n",
            "7/7 [==============================] - 0s 8ms/step - loss: 0.0031\n",
            "Epoch 25/60\n",
            "7/7 [==============================] - 0s 9ms/step - loss: 0.0034\n",
            "Epoch 26/60\n",
            "7/7 [==============================] - 0s 11ms/step - loss: 0.0038\n",
            "Epoch 27/60\n",
            "7/7 [==============================] - 0s 9ms/step - loss: 0.0033\n",
            "Epoch 28/60\n",
            "7/7 [==============================] - 0s 9ms/step - loss: 0.0035\n",
            "Epoch 29/60\n",
            "7/7 [==============================] - 0s 9ms/step - loss: 0.0038\n",
            "Epoch 30/60\n",
            "7/7 [==============================] - 0s 8ms/step - loss: 0.0029\n",
            "Epoch 31/60\n",
            "7/7 [==============================] - 0s 8ms/step - loss: 0.0029\n",
            "Epoch 32/60\n",
            "7/7 [==============================] - 0s 8ms/step - loss: 0.0030\n",
            "Epoch 33/60\n",
            "7/7 [==============================] - 0s 8ms/step - loss: 0.0029\n",
            "Epoch 34/60\n",
            "7/7 [==============================] - 0s 9ms/step - loss: 0.0029\n",
            "Epoch 35/60\n",
            "7/7 [==============================] - 0s 9ms/step - loss: 0.0029\n",
            "Epoch 36/60\n",
            "7/7 [==============================] - 0s 10ms/step - loss: 0.0030\n",
            "Epoch 37/60\n",
            "7/7 [==============================] - 0s 9ms/step - loss: 0.0033\n",
            "Epoch 38/60\n",
            "7/7 [==============================] - 0s 9ms/step - loss: 0.0024\n",
            "Epoch 39/60\n",
            "7/7 [==============================] - 0s 10ms/step - loss: 0.0036\n",
            "Epoch 40/60\n",
            "7/7 [==============================] - 0s 11ms/step - loss: 0.0020\n",
            "Epoch 41/60\n",
            "7/7 [==============================] - 0s 8ms/step - loss: 0.0034\n",
            "Epoch 42/60\n",
            "7/7 [==============================] - 0s 8ms/step - loss: 0.0026\n",
            "Epoch 43/60\n",
            "7/7 [==============================] - 0s 9ms/step - loss: 0.0028\n",
            "Epoch 44/60\n",
            "7/7 [==============================] - 0s 8ms/step - loss: 0.0027\n",
            "Epoch 45/60\n",
            "7/7 [==============================] - 0s 9ms/step - loss: 0.0030\n",
            "Epoch 46/60\n",
            "7/7 [==============================] - 0s 8ms/step - loss: 0.0032\n",
            "Epoch 47/60\n",
            "7/7 [==============================] - 0s 10ms/step - loss: 0.0023\n",
            "Epoch 48/60\n",
            "7/7 [==============================] - 0s 9ms/step - loss: 0.0029\n",
            "Epoch 49/60\n",
            "7/7 [==============================] - 0s 9ms/step - loss: 0.0028\n",
            "Epoch 50/60\n",
            "7/7 [==============================] - 0s 9ms/step - loss: 0.0030\n",
            "Epoch 51/60\n",
            "7/7 [==============================] - 0s 10ms/step - loss: 0.0029\n",
            "Epoch 52/60\n",
            "7/7 [==============================] - 0s 9ms/step - loss: 0.0026\n",
            "Epoch 53/60\n",
            "7/7 [==============================] - 0s 8ms/step - loss: 0.0032\n",
            "Epoch 54/60\n",
            "7/7 [==============================] - 0s 10ms/step - loss: 0.0033\n",
            "Epoch 55/60\n",
            "7/7 [==============================] - 0s 8ms/step - loss: 0.0030\n",
            "Epoch 56/60\n",
            "7/7 [==============================] - 0s 8ms/step - loss: 0.0036\n",
            "Epoch 57/60\n",
            "7/7 [==============================] - 0s 9ms/step - loss: 0.0029\n",
            "Epoch 58/60\n",
            "7/7 [==============================] - 0s 8ms/step - loss: 0.0030\n",
            "Epoch 59/60\n",
            "7/7 [==============================] - 0s 8ms/step - loss: 0.0025\n",
            "Epoch 60/60\n",
            "7/7 [==============================] - 0s 8ms/step - loss: 0.0021\n"
          ],
          "name": "stdout"
        },
        {
          "output_type": "display_data",
          "data": {
            "image/png": "[encoded data removed]",
            "text/plain": [
              "<Figure size 432x288 with 1 Axes>"
            ]
          },
          "metadata": {
            "tags": [],
            "needs_background": "light"
          }
        },
        {
          "output_type": "stream",
          "text": [
            "Tomorrow's SEC price : [55472.613] KRW\n"
          ],
          "name": "stdout"
        }
      ]
    },
    {
      "cell_type": "code",
      "metadata": {
        "id": "NKQDs308IE0V"
      },
      "source": [
        ""
      ],
      "execution_count": null,
      "outputs": []
    }
  ]
}